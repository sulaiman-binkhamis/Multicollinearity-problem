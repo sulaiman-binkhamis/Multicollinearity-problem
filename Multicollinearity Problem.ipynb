{
 "cells": [
  {
   "cell_type": "code",
   "execution_count": 1,
   "id": "b7487120",
   "metadata": {},
   "outputs": [],
   "source": [
    "# import libraries\n",
    "\n",
    "import numpy as np\n",
    "import pandas as pd\n",
    "import matplotlib.pyplot as plt\n",
    "import statsmodels.formula.api as smf\n",
    "import seaborn as sns\n",
    "from scipy import stats\n",
    "import shutup; shutup.please()"
   ]
  },
  {
   "cell_type": "code",
   "execution_count": 2,
   "id": "86108a85",
   "metadata": {},
   "outputs": [],
   "source": [
    "# load data\n",
    "\n",
    "df = pd.read_excel('Cement Haredening Data.xlsx')"
   ]
  },
  {
   "cell_type": "code",
   "execution_count": 3,
   "id": "6cbf9ff4",
   "metadata": {},
   "outputs": [
    {
     "data": {
      "text/html": [
       "<div>\n",
       "<style scoped>\n",
       "    .dataframe tbody tr th:only-of-type {\n",
       "        vertical-align: middle;\n",
       "    }\n",
       "\n",
       "    .dataframe tbody tr th {\n",
       "        vertical-align: top;\n",
       "    }\n",
       "\n",
       "    .dataframe thead th {\n",
       "        text-align: right;\n",
       "    }\n",
       "</style>\n",
       "<table border=\"1\" class=\"dataframe\">\n",
       "  <thead>\n",
       "    <tr style=\"text-align: right;\">\n",
       "      <th></th>\n",
       "      <th>Sample</th>\n",
       "      <th>Y</th>\n",
       "      <th>X1</th>\n",
       "      <th>X2</th>\n",
       "      <th>X3</th>\n",
       "      <th>X4</th>\n",
       "    </tr>\n",
       "  </thead>\n",
       "  <tbody>\n",
       "    <tr>\n",
       "      <th>0</th>\n",
       "      <td>1</td>\n",
       "      <td>78.5</td>\n",
       "      <td>7</td>\n",
       "      <td>26</td>\n",
       "      <td>6</td>\n",
       "      <td>60</td>\n",
       "    </tr>\n",
       "    <tr>\n",
       "      <th>1</th>\n",
       "      <td>2</td>\n",
       "      <td>74.3</td>\n",
       "      <td>1</td>\n",
       "      <td>29</td>\n",
       "      <td>15</td>\n",
       "      <td>52</td>\n",
       "    </tr>\n",
       "    <tr>\n",
       "      <th>2</th>\n",
       "      <td>3</td>\n",
       "      <td>104.3</td>\n",
       "      <td>11</td>\n",
       "      <td>56</td>\n",
       "      <td>8</td>\n",
       "      <td>20</td>\n",
       "    </tr>\n",
       "    <tr>\n",
       "      <th>3</th>\n",
       "      <td>4</td>\n",
       "      <td>87.6</td>\n",
       "      <td>11</td>\n",
       "      <td>31</td>\n",
       "      <td>8</td>\n",
       "      <td>47</td>\n",
       "    </tr>\n",
       "    <tr>\n",
       "      <th>4</th>\n",
       "      <td>5</td>\n",
       "      <td>95.9</td>\n",
       "      <td>7</td>\n",
       "      <td>52</td>\n",
       "      <td>6</td>\n",
       "      <td>33</td>\n",
       "    </tr>\n",
       "    <tr>\n",
       "      <th>5</th>\n",
       "      <td>6</td>\n",
       "      <td>109.2</td>\n",
       "      <td>11</td>\n",
       "      <td>55</td>\n",
       "      <td>9</td>\n",
       "      <td>22</td>\n",
       "    </tr>\n",
       "    <tr>\n",
       "      <th>6</th>\n",
       "      <td>7</td>\n",
       "      <td>102.7</td>\n",
       "      <td>3</td>\n",
       "      <td>71</td>\n",
       "      <td>17</td>\n",
       "      <td>6</td>\n",
       "    </tr>\n",
       "    <tr>\n",
       "      <th>7</th>\n",
       "      <td>8</td>\n",
       "      <td>72.5</td>\n",
       "      <td>1</td>\n",
       "      <td>31</td>\n",
       "      <td>22</td>\n",
       "      <td>44</td>\n",
       "    </tr>\n",
       "    <tr>\n",
       "      <th>8</th>\n",
       "      <td>9</td>\n",
       "      <td>93.1</td>\n",
       "      <td>2</td>\n",
       "      <td>54</td>\n",
       "      <td>18</td>\n",
       "      <td>22</td>\n",
       "    </tr>\n",
       "    <tr>\n",
       "      <th>9</th>\n",
       "      <td>10</td>\n",
       "      <td>115.9</td>\n",
       "      <td>21</td>\n",
       "      <td>47</td>\n",
       "      <td>4</td>\n",
       "      <td>26</td>\n",
       "    </tr>\n",
       "    <tr>\n",
       "      <th>10</th>\n",
       "      <td>11</td>\n",
       "      <td>83.8</td>\n",
       "      <td>1</td>\n",
       "      <td>40</td>\n",
       "      <td>23</td>\n",
       "      <td>34</td>\n",
       "    </tr>\n",
       "    <tr>\n",
       "      <th>11</th>\n",
       "      <td>12</td>\n",
       "      <td>113.3</td>\n",
       "      <td>11</td>\n",
       "      <td>66</td>\n",
       "      <td>9</td>\n",
       "      <td>12</td>\n",
       "    </tr>\n",
       "    <tr>\n",
       "      <th>12</th>\n",
       "      <td>13</td>\n",
       "      <td>109.4</td>\n",
       "      <td>10</td>\n",
       "      <td>68</td>\n",
       "      <td>8</td>\n",
       "      <td>12</td>\n",
       "    </tr>\n",
       "  </tbody>\n",
       "</table>\n",
       "</div>"
      ],
      "text/plain": [
       "    Sample      Y  X1  X2  X3  X4\n",
       "0        1   78.5   7  26   6  60\n",
       "1        2   74.3   1  29  15  52\n",
       "2        3  104.3  11  56   8  20\n",
       "3        4   87.6  11  31   8  47\n",
       "4        5   95.9   7  52   6  33\n",
       "5        6  109.2  11  55   9  22\n",
       "6        7  102.7   3  71  17   6\n",
       "7        8   72.5   1  31  22  44\n",
       "8        9   93.1   2  54  18  22\n",
       "9       10  115.9  21  47   4  26\n",
       "10      11   83.8   1  40  23  34\n",
       "11      12  113.3  11  66   9  12\n",
       "12      13  109.4  10  68   8  12"
      ]
     },
     "execution_count": 3,
     "metadata": {},
     "output_type": "execute_result"
    }
   ],
   "source": [
    "# check data table\n",
    "\n",
    "df"
   ]
  },
  {
   "cell_type": "code",
   "execution_count": 4,
   "id": "dcd3dc27",
   "metadata": {},
   "outputs": [
    {
     "name": "stdout",
     "output_type": "stream",
     "text": [
      "<class 'pandas.core.frame.DataFrame'>\n",
      "RangeIndex: 13 entries, 0 to 12\n",
      "Data columns (total 6 columns):\n",
      " #   Column  Non-Null Count  Dtype  \n",
      "---  ------  --------------  -----  \n",
      " 0   Sample  13 non-null     int64  \n",
      " 1   Y       13 non-null     float64\n",
      " 2   X1      13 non-null     int64  \n",
      " 3   X2      13 non-null     int64  \n",
      " 4   X3      13 non-null     int64  \n",
      " 5   X4      13 non-null     int64  \n",
      "dtypes: float64(1), int64(5)\n",
      "memory usage: 752.0 bytes\n"
     ]
    }
   ],
   "source": [
    "# check data types and null counts\n",
    "\n",
    "df.info()"
   ]
  },
  {
   "cell_type": "code",
   "execution_count": 5,
   "id": "e1139cc4",
   "metadata": {},
   "outputs": [
    {
     "data": {
      "text/html": [
       "<div>\n",
       "<style scoped>\n",
       "    .dataframe tbody tr th:only-of-type {\n",
       "        vertical-align: middle;\n",
       "    }\n",
       "\n",
       "    .dataframe tbody tr th {\n",
       "        vertical-align: top;\n",
       "    }\n",
       "\n",
       "    .dataframe thead th {\n",
       "        text-align: right;\n",
       "    }\n",
       "</style>\n",
       "<table border=\"1\" class=\"dataframe\">\n",
       "  <thead>\n",
       "    <tr style=\"text-align: right;\">\n",
       "      <th></th>\n",
       "      <th>Y</th>\n",
       "      <th>X1</th>\n",
       "      <th>X2</th>\n",
       "      <th>X3</th>\n",
       "      <th>X4</th>\n",
       "    </tr>\n",
       "  </thead>\n",
       "  <tbody>\n",
       "    <tr>\n",
       "      <th>count</th>\n",
       "      <td>13.000000</td>\n",
       "      <td>13.000000</td>\n",
       "      <td>13.000000</td>\n",
       "      <td>13.000000</td>\n",
       "      <td>13.00000</td>\n",
       "    </tr>\n",
       "    <tr>\n",
       "      <th>mean</th>\n",
       "      <td>95.423077</td>\n",
       "      <td>7.461538</td>\n",
       "      <td>48.153846</td>\n",
       "      <td>11.769231</td>\n",
       "      <td>30.00000</td>\n",
       "    </tr>\n",
       "    <tr>\n",
       "      <th>std</th>\n",
       "      <td>15.043723</td>\n",
       "      <td>5.882394</td>\n",
       "      <td>15.560881</td>\n",
       "      <td>6.405126</td>\n",
       "      <td>16.73818</td>\n",
       "    </tr>\n",
       "    <tr>\n",
       "      <th>min</th>\n",
       "      <td>72.500000</td>\n",
       "      <td>1.000000</td>\n",
       "      <td>26.000000</td>\n",
       "      <td>4.000000</td>\n",
       "      <td>6.00000</td>\n",
       "    </tr>\n",
       "    <tr>\n",
       "      <th>25%</th>\n",
       "      <td>83.800000</td>\n",
       "      <td>2.000000</td>\n",
       "      <td>31.000000</td>\n",
       "      <td>8.000000</td>\n",
       "      <td>20.00000</td>\n",
       "    </tr>\n",
       "    <tr>\n",
       "      <th>50%</th>\n",
       "      <td>95.900000</td>\n",
       "      <td>7.000000</td>\n",
       "      <td>52.000000</td>\n",
       "      <td>9.000000</td>\n",
       "      <td>26.00000</td>\n",
       "    </tr>\n",
       "    <tr>\n",
       "      <th>75%</th>\n",
       "      <td>109.200000</td>\n",
       "      <td>11.000000</td>\n",
       "      <td>56.000000</td>\n",
       "      <td>17.000000</td>\n",
       "      <td>44.00000</td>\n",
       "    </tr>\n",
       "    <tr>\n",
       "      <th>max</th>\n",
       "      <td>115.900000</td>\n",
       "      <td>21.000000</td>\n",
       "      <td>71.000000</td>\n",
       "      <td>23.000000</td>\n",
       "      <td>60.00000</td>\n",
       "    </tr>\n",
       "  </tbody>\n",
       "</table>\n",
       "</div>"
      ],
      "text/plain": [
       "                Y         X1         X2         X3        X4\n",
       "count   13.000000  13.000000  13.000000  13.000000  13.00000\n",
       "mean    95.423077   7.461538  48.153846  11.769231  30.00000\n",
       "std     15.043723   5.882394  15.560881   6.405126  16.73818\n",
       "min     72.500000   1.000000  26.000000   4.000000   6.00000\n",
       "25%     83.800000   2.000000  31.000000   8.000000  20.00000\n",
       "50%     95.900000   7.000000  52.000000   9.000000  26.00000\n",
       "75%    109.200000  11.000000  56.000000  17.000000  44.00000\n",
       "max    115.900000  21.000000  71.000000  23.000000  60.00000"
      ]
     },
     "execution_count": 5,
     "metadata": {},
     "output_type": "execute_result"
    }
   ],
   "source": [
    "# summary statistics\n",
    "\n",
    "df[df.columns.drop('Sample')].describe()"
   ]
  },
  {
   "cell_type": "code",
   "execution_count": 6,
   "id": "ca4feafc",
   "metadata": {},
   "outputs": [
    {
     "data": {
      "text/html": [
       "<div>\n",
       "<style scoped>\n",
       "    .dataframe tbody tr th:only-of-type {\n",
       "        vertical-align: middle;\n",
       "    }\n",
       "\n",
       "    .dataframe tbody tr th {\n",
       "        vertical-align: top;\n",
       "    }\n",
       "\n",
       "    .dataframe thead th {\n",
       "        text-align: right;\n",
       "    }\n",
       "</style>\n",
       "<table border=\"1\" class=\"dataframe\">\n",
       "  <thead>\n",
       "    <tr style=\"text-align: right;\">\n",
       "      <th></th>\n",
       "      <th>Sample</th>\n",
       "      <th>Y</th>\n",
       "      <th>X1</th>\n",
       "      <th>X2</th>\n",
       "      <th>X3</th>\n",
       "      <th>X4</th>\n",
       "    </tr>\n",
       "  </thead>\n",
       "  <tbody>\n",
       "    <tr>\n",
       "      <th>Sample</th>\n",
       "      <td>1.000000</td>\n",
       "      <td>0.485035</td>\n",
       "      <td>0.138230</td>\n",
       "      <td>0.551422</td>\n",
       "      <td>0.223831</td>\n",
       "      <td>-0.632806</td>\n",
       "    </tr>\n",
       "    <tr>\n",
       "      <th>Y</th>\n",
       "      <td>0.485035</td>\n",
       "      <td>1.000000</td>\n",
       "      <td>0.730717</td>\n",
       "      <td>0.816253</td>\n",
       "      <td>-0.534671</td>\n",
       "      <td>-0.821305</td>\n",
       "    </tr>\n",
       "    <tr>\n",
       "      <th>X1</th>\n",
       "      <td>0.138230</td>\n",
       "      <td>0.730717</td>\n",
       "      <td>1.000000</td>\n",
       "      <td>0.228579</td>\n",
       "      <td>-0.824134</td>\n",
       "      <td>-0.245445</td>\n",
       "    </tr>\n",
       "    <tr>\n",
       "      <th>X2</th>\n",
       "      <td>0.551422</td>\n",
       "      <td>0.816253</td>\n",
       "      <td>0.228579</td>\n",
       "      <td>1.000000</td>\n",
       "      <td>-0.139242</td>\n",
       "      <td>-0.972955</td>\n",
       "    </tr>\n",
       "    <tr>\n",
       "      <th>X3</th>\n",
       "      <td>0.223831</td>\n",
       "      <td>-0.534671</td>\n",
       "      <td>-0.824134</td>\n",
       "      <td>-0.139242</td>\n",
       "      <td>1.000000</td>\n",
       "      <td>0.029537</td>\n",
       "    </tr>\n",
       "    <tr>\n",
       "      <th>X4</th>\n",
       "      <td>-0.632806</td>\n",
       "      <td>-0.821305</td>\n",
       "      <td>-0.245445</td>\n",
       "      <td>-0.972955</td>\n",
       "      <td>0.029537</td>\n",
       "      <td>1.000000</td>\n",
       "    </tr>\n",
       "  </tbody>\n",
       "</table>\n",
       "</div>"
      ],
      "text/plain": [
       "          Sample         Y        X1        X2        X3        X4\n",
       "Sample  1.000000  0.485035  0.138230  0.551422  0.223831 -0.632806\n",
       "Y       0.485035  1.000000  0.730717  0.816253 -0.534671 -0.821305\n",
       "X1      0.138230  0.730717  1.000000  0.228579 -0.824134 -0.245445\n",
       "X2      0.551422  0.816253  0.228579  1.000000 -0.139242 -0.972955\n",
       "X3      0.223831 -0.534671 -0.824134 -0.139242  1.000000  0.029537\n",
       "X4     -0.632806 -0.821305 -0.245445 -0.972955  0.029537  1.000000"
      ]
     },
     "execution_count": 6,
     "metadata": {},
     "output_type": "execute_result"
    }
   ],
   "source": [
    "# creation of correlation matrix\n",
    "\n",
    "corrM = df.corr()\n",
    "corrM"
   ]
  },
  {
   "cell_type": "code",
   "execution_count": 7,
   "id": "3f2857a8",
   "metadata": {},
   "outputs": [
    {
     "data": {
      "image/png": "[encoded data removed]",
      "text/plain": [
       "<Figure size 640x480 with 1 Axes>"
      ]
     },
     "metadata": {},
     "output_type": "display_data"
    }
   ],
   "source": [
    "x1 = df['X1']\n",
    "y = df['Y']\n",
    "plt.scatter(x1, y)\n",
    "\n",
    "z = np.polyfit(x1, y, 1)\n",
    "p = np.poly1d(z)\n",
    "plt.plot(x1,p(x1),\"r-\")\n",
    "plt.xlabel(\"X1\")\n",
    "plt.ylabel(\"Y\")\n",
    "plt.show()"
   ]
  },
  {
   "cell_type": "code",
   "execution_count": 8,
   "id": "b316a1f0",
   "metadata": {},
   "outputs": [
    {
     "data": {
      "image/png": "[encoded data removed]",
      "text/plain": [
       "<Figure size 640x480 with 1 Axes>"
      ]
     },
     "metadata": {},
     "output_type": "display_data"
    }
   ],
   "source": [
    "x2 = df['X2']\n",
    "y = df['Y']\n",
    "plt.scatter(x2, y)\n",
    "\n",
    "z = np.polyfit(x2, y, 1)\n",
    "p = np.poly1d(z)\n",
    "plt.plot(x2,p(x2),\"r-\")\n",
    "plt.xlabel(\"X2\")\n",
    "plt.ylabel(\"Y\")\n",
    "plt.show()"
   ]
  },
  {
   "cell_type": "code",
   "execution_count": 9,
   "id": "0b2a537b",
   "metadata": {},
   "outputs": [
    {
     "data": {
      "image/png": "[encoded data removed]",
      "text/plain": [
       "<Figure size 640x480 with 1 Axes>"
      ]
     },
     "metadata": {},
     "output_type": "display_data"
    }
   ],
   "source": [
    "x3 = df['X3']\n",
    "y = df['Y']\n",
    "plt.scatter(x3, y)\n",
    "\n",
    "z = np.polyfit(x3, y, 1)\n",
    "p = np.poly1d(z)\n",
    "plt.plot(x3,p(x3),\"r-\")\n",
    "plt.xlabel(\"X3\")\n",
    "plt.ylabel(\"Y\")\n",
    "plt.show()"
   ]
  },
  {
   "cell_type": "code",
   "execution_count": 10,
   "id": "838a0a82",
   "metadata": {},
   "outputs": [
    {
     "data": {
      "image/png": "[encoded data removed]",
      "text/plain": [
       "<Figure size 640x480 with 1 Axes>"
      ]
     },
     "metadata": {},
     "output_type": "display_data"
    }
   ],
   "source": [
    "x4 = df['X4']\n",
    "y = df['Y']\n",
    "plt.scatter(x4, y)\n",
    "\n",
    "z = np.polyfit(x4, y, 1)\n",
    "p = np.poly1d(z)\n",
    "plt.plot(x4,p(x4),\"r-\")\n",
    "plt.xlabel(\"X4\")\n",
    "plt.ylabel(\"Y\")\n",
    "plt.show()"
   ]
  },
  {
   "cell_type": "code",
   "execution_count": 11,
   "id": "f9c20729",
   "metadata": {},
   "outputs": [
    {
     "name": "stdout",
     "output_type": "stream",
     "text": [
      "                            OLS Regression Results                            \n",
      "==============================================================================\n",
      "Dep. Variable:                      y   R-squared:                       0.534\n",
      "Model:                            OLS   Adj. R-squared:                  0.492\n",
      "Method:                 Least Squares   F-statistic:                     12.60\n",
      "Date:                Sat, 18 Mar 2023   Prob (F-statistic):            0.00455\n",
      "Time:                        14:58:41   Log-Likelihood:                -48.206\n",
      "No. Observations:                  13   AIC:                             100.4\n",
      "Df Residuals:                      11   BIC:                             101.5\n",
      "Df Model:                           1                                         \n",
      "Covariance Type:            nonrobust                                         \n",
      "==============================================================================\n",
      "                 coef    std err          t      P>|t|      [0.025      0.975]\n",
      "------------------------------------------------------------------------------\n",
      "Intercept     81.4793      4.927     16.536      0.000      70.634      92.324\n",
      "x1             1.8687      0.526      3.550      0.005       0.710       3.027\n",
      "==============================================================================\n",
      "Omnibus:                        1.608   Durbin-Watson:                   1.716\n",
      "Prob(Omnibus):                  0.448   Jarque-Bera (JB):                0.874\n",
      "Skew:                          -0.191   Prob(JB):                        0.646\n",
      "Kurtosis:                       1.788   Cond. No.                         15.6\n",
      "==============================================================================\n",
      "\n",
      "Notes:\n",
      "[1] Standard Errors assume that the covariance matrix of the errors is correctly specified.\n"
     ]
    }
   ],
   "source": [
    "# Regression summary for x1 vs y\n",
    "model = smf.ols('y ~ x1', data = df)\n",
    "results = model.fit()\n",
    "print(results.summary())"
   ]
  },
  {
   "cell_type": "code",
   "execution_count": 12,
   "id": "4f53e12c",
   "metadata": {},
   "outputs": [
    {
     "name": "stdout",
     "output_type": "stream",
     "text": [
      "                            OLS Regression Results                            \n",
      "==============================================================================\n",
      "Dep. Variable:                      y   R-squared:                       0.666\n",
      "Model:                            OLS   Adj. R-squared:                  0.636\n",
      "Method:                 Least Squares   F-statistic:                     21.96\n",
      "Date:                Sat, 18 Mar 2023   Prob (F-statistic):           0.000665\n",
      "Time:                        14:58:41   Log-Likelihood:                -46.035\n",
      "No. Observations:                  13   AIC:                             96.07\n",
      "Df Residuals:                      11   BIC:                             97.20\n",
      "Df Model:                           1                                         \n",
      "Covariance Type:            nonrobust                                         \n",
      "==============================================================================\n",
      "                 coef    std err          t      P>|t|      [0.025      0.975]\n",
      "------------------------------------------------------------------------------\n",
      "Intercept     57.4237      8.491      6.763      0.000      38.736      76.111\n",
      "x2             0.7891      0.168      4.686      0.001       0.418       1.160\n",
      "==============================================================================\n",
      "Omnibus:                        5.808   Durbin-Watson:                   2.547\n",
      "Prob(Omnibus):                  0.055   Jarque-Bera (JB):                2.690\n",
      "Skew:                           1.037   Prob(JB):                        0.261\n",
      "Kurtosis:                       3.814   Cond. No.                         170.\n",
      "==============================================================================\n",
      "\n",
      "Notes:\n",
      "[1] Standard Errors assume that the covariance matrix of the errors is correctly specified.\n"
     ]
    }
   ],
   "source": [
    "# Regression summary for x2 vs y\n",
    "model = smf.ols('y ~ x2', data = df)\n",
    "results = model.fit()\n",
    "print(results.summary())"
   ]
  },
  {
   "cell_type": "code",
   "execution_count": 13,
   "id": "81246e2d",
   "metadata": {},
   "outputs": [
    {
     "name": "stdout",
     "output_type": "stream",
     "text": [
      "                            OLS Regression Results                            \n",
      "==============================================================================\n",
      "Dep. Variable:                      y   R-squared:                       0.286\n",
      "Model:                            OLS   Adj. R-squared:                  0.221\n",
      "Method:                 Least Squares   F-statistic:                     4.403\n",
      "Date:                Sat, 18 Mar 2023   Prob (F-statistic):             0.0598\n",
      "Time:                        14:58:41   Log-Likelihood:                -50.980\n",
      "No. Observations:                  13   AIC:                             106.0\n",
      "Df Residuals:                      11   BIC:                             107.1\n",
      "Df Model:                           1                                         \n",
      "Covariance Type:            nonrobust                                         \n",
      "==============================================================================\n",
      "                 coef    std err          t      P>|t|      [0.025      0.975]\n",
      "------------------------------------------------------------------------------\n",
      "Intercept    110.2027      7.948     13.866      0.000      92.710     127.696\n",
      "x3            -1.2558      0.598     -2.098      0.060      -2.573       0.061\n",
      "==============================================================================\n",
      "Omnibus:                        1.730   Durbin-Watson:                   1.132\n",
      "Prob(Omnibus):                  0.421   Jarque-Bera (JB):                1.244\n",
      "Skew:                          -0.565   Prob(JB):                        0.537\n",
      "Kurtosis:                       1.991   Cond. No.                         28.8\n",
      "==============================================================================\n",
      "\n",
      "Notes:\n",
      "[1] Standard Errors assume that the covariance matrix of the errors is correctly specified.\n"
     ]
    }
   ],
   "source": [
    "# Regression summary for x3 vs y\n",
    "model = smf.ols('y ~ x3', data = df)\n",
    "results = model.fit()\n",
    "print(results.summary())"
   ]
  },
  {
   "cell_type": "code",
   "execution_count": 14,
   "id": "6fb2690a",
   "metadata": {},
   "outputs": [
    {
     "name": "stdout",
     "output_type": "stream",
     "text": [
      "                            OLS Regression Results                            \n",
      "==============================================================================\n",
      "Dep. Variable:                      y   R-squared:                       0.675\n",
      "Model:                            OLS   Adj. R-squared:                  0.645\n",
      "Method:                 Least Squares   F-statistic:                     22.80\n",
      "Date:                Sat, 18 Mar 2023   Prob (F-statistic):           0.000576\n",
      "Time:                        14:58:41   Log-Likelihood:                -45.872\n",
      "No. Observations:                  13   AIC:                             95.74\n",
      "Df Residuals:                      11   BIC:                             96.87\n",
      "Df Model:                           1                                         \n",
      "Covariance Type:            nonrobust                                         \n",
      "==============================================================================\n",
      "                 coef    std err          t      P>|t|      [0.025      0.975]\n",
      "------------------------------------------------------------------------------\n",
      "Intercept    117.5679      5.262     22.342      0.000     105.986     129.150\n",
      "x4            -0.7382      0.155     -4.775      0.001      -1.078      -0.398\n",
      "==============================================================================\n",
      "Omnibus:                        0.226   Durbin-Watson:                   2.357\n",
      "Prob(Omnibus):                  0.893   Jarque-Bera (JB):                0.288\n",
      "Skew:                           0.244   Prob(JB):                        0.866\n",
      "Kurtosis:                       2.458   Cond. No.                         72.1\n",
      "==============================================================================\n",
      "\n",
      "Notes:\n",
      "[1] Standard Errors assume that the covariance matrix of the errors is correctly specified.\n"
     ]
    }
   ],
   "source": [
    "# Regression summary for x4 vs y\n",
    "model = smf.ols('y ~ x4', data = df)\n",
    "results = model.fit()\n",
    "print(results.summary())"
   ]
  },
  {
   "cell_type": "code",
   "execution_count": 15,
   "id": "fbe8568e",
   "metadata": {},
   "outputs": [
    {
     "name": "stdout",
     "output_type": "stream",
     "text": [
      "                            OLS Regression Results                            \n",
      "==============================================================================\n",
      "Dep. Variable:                      y   R-squared:                       0.982\n",
      "Model:                            OLS   Adj. R-squared:                  0.974\n",
      "Method:                 Least Squares   F-statistic:                     111.5\n",
      "Date:                Sat, 18 Mar 2023   Prob (F-statistic):           4.76e-07\n",
      "Time:                        14:58:41   Log-Likelihood:                -26.918\n",
      "No. Observations:                  13   AIC:                             63.84\n",
      "Df Residuals:                       8   BIC:                             66.66\n",
      "Df Model:                           4                                         \n",
      "Covariance Type:            nonrobust                                         \n",
      "==============================================================================\n",
      "                 coef    std err          t      P>|t|      [0.025      0.975]\n",
      "------------------------------------------------------------------------------\n",
      "Intercept     62.4054     70.071      0.891      0.399     -99.179     223.989\n",
      "X[0]           1.5511      0.745      2.083      0.071      -0.166       3.269\n",
      "X[1]           0.5102      0.724      0.705      0.501      -1.159       2.179\n",
      "X[2]           0.1019      0.755      0.135      0.896      -1.638       1.842\n",
      "X[3]          -0.1441      0.709     -0.203      0.844      -1.779       1.491\n",
      "==============================================================================\n",
      "Omnibus:                        0.165   Durbin-Watson:                   2.053\n",
      "Prob(Omnibus):                  0.921   Jarque-Bera (JB):                0.320\n",
      "Skew:                           0.201   Prob(JB):                        0.852\n",
      "Kurtosis:                       2.345   Cond. No.                     6.06e+03\n",
      "==============================================================================\n",
      "\n",
      "Notes:\n",
      "[1] Standard Errors assume that the covariance matrix of the errors is correctly specified.\n",
      "[2] The condition number is large, 6.06e+03. This might indicate that there are\n",
      "strong multicollinearity or other numerical problems.\n"
     ]
    }
   ],
   "source": [
    "# Regression summary for x1,x2,x3,x4 vs y (full model)\n",
    "X=df[['X1','X2','X3','X4']]\n",
    "model = smf.ols('y ~ X ', data = df)\n",
    "results = model.fit()\n",
    "print(results.summary())"
   ]
  },
  {
   "cell_type": "code",
   "execution_count": 16,
   "id": "f059f444",
   "metadata": {},
   "outputs": [
    {
     "name": "stdout",
     "output_type": "stream",
     "text": [
      "                            OLS Regression Results                            \n",
      "==============================================================================\n",
      "Dep. Variable:                      y   R-squared:                       0.982\n",
      "Model:                            OLS   Adj. R-squared:                  0.976\n",
      "Method:                 Least Squares   F-statistic:                     166.3\n",
      "Date:                Sat, 18 Mar 2023   Prob (F-statistic):           3.37e-08\n",
      "Time:                        14:58:41   Log-Likelihood:                -26.952\n",
      "No. Observations:                  13   AIC:                             61.90\n",
      "Df Residuals:                       9   BIC:                             64.16\n",
      "Df Model:                           3                                         \n",
      "Covariance Type:            nonrobust                                         \n",
      "==============================================================================\n",
      "                 coef    std err          t      P>|t|      [0.025      0.975]\n",
      "------------------------------------------------------------------------------\n",
      "Intercept     48.1936      3.913     12.315      0.000      39.341      57.046\n",
      "X[0]           1.6959      0.205      8.290      0.000       1.233       2.159\n",
      "X[1]           0.6569      0.044     14.851      0.000       0.557       0.757\n",
      "X[2]           0.2500      0.185      1.354      0.209      -0.168       0.668\n",
      "==============================================================================\n",
      "Omnibus:                        0.164   Durbin-Watson:                   2.110\n",
      "Prob(Omnibus):                  0.921   Jarque-Bera (JB):                0.261\n",
      "Skew:                           0.208   Prob(JB):                        0.878\n",
      "Kurtosis:                       2.445   Cond. No.                         319.\n",
      "==============================================================================\n",
      "\n",
      "Notes:\n",
      "[1] Standard Errors assume that the covariance matrix of the errors is correctly specified.\n"
     ]
    }
   ],
   "source": [
    "# Regression summary for x1,x2,x3 vs y\n",
    "X=df[['X1','X2','X3']]\n",
    "model = smf.ols('y ~ X ', data = df)\n",
    "results = model.fit()\n",
    "print(results.summary())"
   ]
  },
  {
   "cell_type": "code",
   "execution_count": 17,
   "id": "2b516efe",
   "metadata": {},
   "outputs": [
    {
     "name": "stdout",
     "output_type": "stream",
     "text": [
      "                            OLS Regression Results                            \n",
      "==============================================================================\n",
      "Dep. Variable:                      y   R-squared:                       0.979\n",
      "Model:                            OLS   Adj. R-squared:                  0.974\n",
      "Method:                 Least Squares   F-statistic:                     229.5\n",
      "Date:                Sat, 18 Mar 2023   Prob (F-statistic):           4.41e-09\n",
      "Time:                        14:58:41   Log-Likelihood:                -28.156\n",
      "No. Observations:                  13   AIC:                             62.31\n",
      "Df Residuals:                      10   BIC:                             64.01\n",
      "Df Model:                           2                                         \n",
      "Covariance Type:            nonrobust                                         \n",
      "==============================================================================\n",
      "                 coef    std err          t      P>|t|      [0.025      0.975]\n",
      "------------------------------------------------------------------------------\n",
      "Intercept     52.5773      2.286     22.998      0.000      47.483      57.671\n",
      "X[0]           1.4683      0.121     12.105      0.000       1.198       1.739\n",
      "X[1]           0.6623      0.046     14.442      0.000       0.560       0.764\n",
      "==============================================================================\n",
      "Omnibus:                        1.509   Durbin-Watson:                   1.922\n",
      "Prob(Omnibus):                  0.470   Jarque-Bera (JB):                1.104\n",
      "Skew:                           0.503   Prob(JB):                        0.576\n",
      "Kurtosis:                       1.987   Cond. No.                         175.\n",
      "==============================================================================\n",
      "\n",
      "Notes:\n",
      "[1] Standard Errors assume that the covariance matrix of the errors is correctly specified.\n"
     ]
    }
   ],
   "source": [
    "# Regression summary for x1,x2 vs y\n",
    "X=df[['X1','X2']]\n",
    "model = smf.ols('y ~ X ', data = df)\n",
    "results = model.fit()\n",
    "print(results.summary())"
   ]
  },
  {
   "cell_type": "code",
   "execution_count": 18,
   "id": "a9b00c22",
   "metadata": {},
   "outputs": [
    {
     "name": "stdout",
     "output_type": "stream",
     "text": [
      "                            OLS Regression Results                            \n",
      "==============================================================================\n",
      "Dep. Variable:                      y   R-squared:                       0.680\n",
      "Model:                            OLS   Adj. R-squared:                  0.616\n",
      "Method:                 Least Squares   F-statistic:                     10.63\n",
      "Date:                Sat, 18 Mar 2023   Prob (F-statistic):            0.00335\n",
      "Time:                        14:58:41   Log-Likelihood:                -45.761\n",
      "No. Observations:                  13   AIC:                             97.52\n",
      "Df Residuals:                      10   BIC:                             99.22\n",
      "Df Model:                           2                                         \n",
      "Covariance Type:            nonrobust                                         \n",
      "==============================================================================\n",
      "                 coef    std err          t      P>|t|      [0.025      0.975]\n",
      "------------------------------------------------------------------------------\n",
      "Intercept     94.1601     56.627      1.663      0.127     -32.013     220.333\n",
      "X[0]           0.3109      0.749      0.415      0.687      -1.357       1.979\n",
      "X[1]          -0.4569      0.696     -0.657      0.526      -2.008       1.094\n",
      "==============================================================================\n",
      "Omnibus:                        1.651   Durbin-Watson:                   2.458\n",
      "Prob(Omnibus):                  0.438   Jarque-Bera (JB):                0.688\n",
      "Skew:                           0.563   Prob(JB):                        0.709\n",
      "Kurtosis:                       2.967   Cond. No.                     1.25e+03\n",
      "==============================================================================\n",
      "\n",
      "Notes:\n",
      "[1] Standard Errors assume that the covariance matrix of the errors is correctly specified.\n",
      "[2] The condition number is large, 1.25e+03. This might indicate that there are\n",
      "strong multicollinearity or other numerical problems.\n"
     ]
    }
   ],
   "source": [
    "# Regression summary for x2,x4 vs y\n",
    "X=df[['X2','X4']]\n",
    "model = smf.ols('y ~ X ', data = df)\n",
    "results = model.fit()\n",
    "print(results.summary())"
   ]
  },
  {
   "cell_type": "code",
   "execution_count": 19,
   "id": "2bf02139",
   "metadata": {},
   "outputs": [
    {
     "data": {
      "image/png": "[encoded data removed]",
      "text/plain": [
       "<Figure size 1400x800 with 2 Axes>"
      ]
     },
     "metadata": {},
     "output_type": "display_data"
    }
   ],
   "source": [
    "df.corr()\n",
    "plt.figure(figsize=(14,8))\n",
    "sns.heatmap(df.corr(), annot=True, cmap='Blues');"
   ]
  },
  {
   "cell_type": "code",
   "execution_count": 20,
   "id": "af5d894e",
   "metadata": {},
   "outputs": [
    {
     "data": {
      "text/plain": [
       "PearsonRResult(statistic=-0.9729549989072812, pvalue=2.4046448597956103e-08)"
      ]
     },
     "execution_count": 20,
     "metadata": {},
     "output_type": "execute_result"
    }
   ],
   "source": [
    "stats.pearsonr(df['X2'], df['X4'])"
   ]
  },
  {
   "cell_type": "code",
   "execution_count": 21,
   "id": "054c180e",
   "metadata": {},
   "outputs": [
    {
     "name": "stdout",
     "output_type": "stream",
     "text": [
      "  feature        VIF\n",
      "0      X1   6.688643\n",
      "1      X2  12.995434\n",
      "2      X3   9.981159\n",
      "3      X4   4.418264\n"
     ]
    }
   ],
   "source": [
    "# Detecting Multicollinearity with VIF\n",
    "\n",
    "\n",
    "from statsmodels.stats.outliers_influence import variance_inflation_factor\n",
    "\n",
    "X=df[['X1','X2','X3','X4']]\n",
    "\n",
    "# VIF dataframe\n",
    "vif_data = pd.DataFrame()\n",
    "vif_data[\"feature\"] = X.columns\n",
    "  \n",
    "# calculating VIF for each feature\n",
    "vif_data[\"VIF\"] = [variance_inflation_factor(X.values, i)\n",
    "                          for i in range(len(X.columns))]\n",
    "print(vif_data)"
   ]
  },
  {
   "cell_type": "code",
   "execution_count": 22,
   "id": "95ca9f54",
   "metadata": {},
   "outputs": [
    {
     "name": "stdout",
     "output_type": "stream",
     "text": [
      "  feature       VIF\n",
      "0      X1  1.670660\n",
      "1      X3  2.638406\n",
      "2      X4  3.402385\n"
     ]
    }
   ],
   "source": [
    "# X2 has VIF>10, if we exclude X2, will get\n",
    "\n",
    "\n",
    "X=df[['X1','X3','X4']]\n",
    "\n",
    "# VIF dataframe\n",
    "vif_data = pd.DataFrame()\n",
    "vif_data[\"feature\"] = X.columns\n",
    "  \n",
    "# calculating VIF for each feature\n",
    "vif_data[\"VIF\"] = [variance_inflation_factor(X.values, i)\n",
    "                          for i in range(len(X.columns))]\n",
    "print(vif_data)"
   ]
  },
  {
   "cell_type": "code",
   "execution_count": 23,
   "id": "8599a39b",
   "metadata": {},
   "outputs": [
    {
     "name": "stdout",
     "output_type": "stream",
     "text": [
      "                            OLS Regression Results                            \n",
      "==============================================================================\n",
      "Dep. Variable:                      y   R-squared:                       0.981\n",
      "Model:                            OLS   Adj. R-squared:                  0.975\n",
      "Method:                 Least Squares   F-statistic:                     157.3\n",
      "Date:                Sat, 18 Mar 2023   Prob (F-statistic):           4.31e-08\n",
      "Time:                        14:58:41   Log-Likelihood:                -27.310\n",
      "No. Observations:                  13   AIC:                             62.62\n",
      "Df Residuals:                       9   BIC:                             64.88\n",
      "Df Model:                           3                                         \n",
      "Covariance Type:            nonrobust                                         \n",
      "==============================================================================\n",
      "                 coef    std err          t      P>|t|      [0.025      0.975]\n",
      "------------------------------------------------------------------------------\n",
      "Intercept    111.6844      4.562     24.479      0.000     101.363     122.005\n",
      "X[0]           1.0519      0.224      4.702      0.001       0.546       1.558\n",
      "X[1]          -0.4100      0.199     -2.058      0.070      -0.861       0.041\n",
      "X[2]          -0.6428      0.045    -14.431      0.000      -0.744      -0.542\n",
      "==============================================================================\n",
      "Omnibus:                        0.353   Durbin-Watson:                   1.812\n",
      "Prob(Omnibus):                  0.838   Jarque-Bera (JB):                0.468\n",
      "Skew:                           0.064   Prob(JB):                        0.791\n",
      "Kurtosis:                       2.080   Cond. No.                         251.\n",
      "==============================================================================\n",
      "\n",
      "Notes:\n",
      "[1] Standard Errors assume that the covariance matrix of the errors is correctly specified.\n"
     ]
    }
   ],
   "source": [
    "# Regression summary for x1,x3, x4 vs y\n",
    "X=df[['X1','X3','X4']]\n",
    "model = smf.ols('y ~ X ', data = df)\n",
    "results = model.fit()\n",
    "print(results.summary())"
   ]
  },
  {
   "cell_type": "code",
   "execution_count": 24,
   "id": "53bd8b95",
   "metadata": {},
   "outputs": [],
   "source": [
    "# Shrinkage regression methods, stepwise regression, VIF and pairwise correlations are useful methods \n",
    "# to detect and deal with multicolliniarity problem"
   ]
  }
 ],
 "metadata": {
  "kernelspec": {
   "display_name": "Python 3 (ipykernel)",
   "language": "python",
   "name": "python3"
  },
  "language_info": {
   "codemirror_mode": {
    "name": "ipython",
    "version": 3
   },
   "file_extension": ".py",
   "mimetype": "text/x-python",
   "name": "python",
   "nbconvert_exporter": "python",
   "pygments_lexer": "ipython3",
   "version": "3.9.13"
  }
 },
 "nbformat": 4,
 "nbformat_minor": 5
}
